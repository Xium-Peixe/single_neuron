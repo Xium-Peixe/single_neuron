{
 "cells": [
  {
   "cell_type": "markdown",
   "metadata": {},
   "source": [
    "# 1. Imports"
   ]
  },
  {
   "cell_type": "code",
   "execution_count": 1,
   "metadata": {},
   "outputs": [],
   "source": [
    "import math\n",
    "import numpy as np\n",
    "import tensorflow as tf\n",
    "import matplotlib.pyplot as plt"
   ]
  },
  {
   "cell_type": "markdown",
   "metadata": {},
   "source": [
    "# 2. Data"
   ]
  },
  {
   "cell_type": "markdown",
   "metadata": {},
   "source": [
    "only works under \"TensorFlow-Tutorials-master\""
   ]
  },
  {
   "cell_type": "code",
   "execution_count": 2,
   "metadata": {},
   "outputs": [],
   "source": [
    "from mnist import MNIST\n",
    "data = MNIST(data_dir=\"data/MNIST/\")"
   ]
  },
  {
   "cell_type": "markdown",
   "metadata": {},
   "source": [
    "show data features and shapes"
   ]
  },
  {
   "cell_type": "code",
   "execution_count": 3,
   "metadata": {},
   "outputs": [
    {
     "name": "stdout",
     "output_type": "stream",
     "text": [
      "data.img_size:\t\t28\n",
      "data.img_size_flat:\t784\n",
      "data.img_shape:\t\t(28, 28)\n",
      "data.num_classes:\t10\n",
      "data.num_channels:\t1\n"
     ]
    }
   ],
   "source": [
    "print('data.img_size:\\t\\t{}'.format(data.img_size))\n",
    "print('data.img_size_flat:\\t{}'.format(data.img_size_flat))\n",
    "print('data.img_shape:\\t\\t{}'.format(data.img_shape))\n",
    "print('data.num_classes:\\t{}'.format(data.num_classes))\n",
    "print('data.num_channels:\\t{}'.format(data.num_channels))"
   ]
  },
  {
   "cell_type": "markdown",
   "metadata": {},
   "source": [
    "show subsets.validation_data is not used"
   ]
  },
  {
   "cell_type": "code",
   "execution_count": 4,
   "metadata": {},
   "outputs": [
    {
     "name": "stdout",
     "output_type": "stream",
     "text": [
      "train_data:\t\t55000\n",
      "validation_data:\t5000\n",
      "test_data:\t\t10000\n"
     ]
    }
   ],
   "source": [
    "print('train_data:\\t\\t{}'.format(data.num_train))\n",
    "print('validation_data:\\t{}'.format(data.num_val))\n",
    "print('test_data:\\t\\t{}'.format(data.num_test))"
   ]
  },
  {
   "cell_type": "markdown",
   "metadata": {},
   "source": [
    "# 3. Placeholders"
   ]
  },
  {
   "cell_type": "markdown",
   "metadata": {},
   "source": [
    "only inputs and outputs which will be fed are considered as placeholders. image inputs and class outputs are considered as layers.\n",
    "\n",
    "x is in flat, and y is in one-hot."
   ]
  },
  {
   "cell_type": "code",
   "execution_count": 5,
   "metadata": {},
   "outputs": [
    {
     "name": "stdout",
     "output_type": "stream",
     "text": [
      "x in flat: (?, 784)\n",
      "y in one-hot: (?, 10)\n"
     ]
    }
   ],
   "source": [
    "x = tf.placeholder(tf.float32, shape = [None, data.img_size_flat])\n",
    "print('x in flat:', x.shape)\n",
    "y = tf.placeholder(tf.float32, shape = [None, data.num_classes])\n",
    "print('y in one-hot:', y.shape)"
   ]
  },
  {
   "cell_type": "markdown",
   "metadata": {},
   "source": [
    "# 4. Functions"
   ]
  },
  {
   "cell_type": "markdown",
   "metadata": {},
   "source": [
    "## 4.1 Data functions "
   ]
  },
  {
   "cell_type": "markdown",
   "metadata": {},
   "source": [
    "some notations of data:\n",
    "    \n",
    "    d: data\n",
    "    n: number of data\n",
    "    sh: shap of data\n",
    "    f: number of features\n",
    "    ch: number of channels\n"
   ]
  },
  {
   "cell_type": "markdown",
   "metadata": {},
   "source": [
    "notations of functions\n",
    "    \n",
    "    n_: create a new object\n",
    "    t_: transform a object. usually the outputs are values of the object\n",
    "    g_: get attributes of a object. usually the outputs are not values of the object"
   ]
  },
  {
   "cell_type": "markdown",
   "metadata": {},
   "source": [
    "descrition of following functions:\n",
    "    \n",
    "    g_n: get number of data\n",
    "    g_f_sh: get feature shape\n",
    "    g_f: get number if features\n",
    "    g_ch: get number of channels"
   ]
  },
  {
   "cell_type": "markdown",
   "metadata": {},
   "source": [
    ".value is for objects which are tensors or variables"
   ]
  },
  {
   "cell_type": "code",
   "execution_count": 6,
   "metadata": {},
   "outputs": [],
   "source": [
    "def g_n(d):\n",
    "    n = d.shape[:1]\n",
    "    return n\n",
    "\n",
    "def g_f_sh(d):\n",
    "    f_sh = d.shape[1:]\n",
    "    return f_sh\n",
    "\n",
    "def g_f(d):\n",
    "    f_sh = g_f_sh(d)\n",
    "    f = np.prod(f_sh)\n",
    "    f = f.value\n",
    "    return f\n",
    "\n",
    "def g_ch(d):\n",
    "    f_sh = g_f_sh(d)\n",
    "    ch = f_sh[-1]\n",
    "    ch = ch.value\n",
    "    return ch\n"
   ]
  },
  {
   "cell_type": "markdown",
   "metadata": {},
   "source": [
    "## 4.2 Weights and biases funtions "
   ]
  },
  {
   "cell_type": "markdown",
   "metadata": {},
   "source": [
    "descrition of following functions:\n",
    "    \n",
    "    n_w: create a weights variable\n",
    "    n_b: create a biases variable\n",
    "    n_fc_w_b: create a weights variable and a biases variable for a full connected neural network\n",
    "        i_f: number of input features \n",
    "        nr: number of neurons\n",
    "    n_cnn_2d_w_b: create a weights variable and a biases variable for 2d convolutional neural network."
   ]
  },
  {
   "cell_type": "markdown",
   "metadata": {},
   "source": [
    "notations of 2d filter:\n",
    "    \n",
    "    ft: filter\n",
    "    ft_s: filter size, if filter is in square\n",
    "    ft_x: filter size of x axis\n",
    "    ft_y: filter size of y axis\n",
    "    i_ch: number of input channels\n",
    "    o_ch: number of putpuy channels"
   ]
  },
  {
   "cell_type": "code",
   "execution_count": 7,
   "metadata": {},
   "outputs": [],
   "source": [
    "def n_w(sh):\n",
    "    w = tf.Variable(tf.truncated_normal(dtype = tf.float32, shape = sh, stddev = 0.05))\n",
    "    return w\n",
    "\n",
    "def n_b(sh):\n",
    "    b = tf.Variable(tf.constant(dtype = tf.float32, shape = sh, value = 0.05))\n",
    "    return b\n",
    "\n",
    "def n_fc_w_b(i_f, nr):\n",
    "    w = n_w([i_f, nr])\n",
    "    b = n_b([nr])\n",
    "    return w, b\n",
    "\n",
    "def n_cnn_2d_w_b(ft_x, ft_y, i_ch, o_ch):\n",
    "    w = n_w([ft_x, ft_y, i_ch, o_ch])\n",
    "    b = n_b([o_ch])\n",
    "    return w, b"
   ]
  },
  {
   "cell_type": "markdown",
   "metadata": {},
   "source": [
    "## 4.3 Layer funtions "
   ]
  },
  {
   "cell_type": "markdown",
   "metadata": {},
   "source": [
    "description of following functions:\n",
    "    \n",
    "    t_fltn: flatten data\n",
    "    n_fc: create a fc layer\n",
    "    n_cnn_2d: create a 2d cnn"
   ]
  },
  {
   "cell_type": "markdown",
   "metadata": {},
   "source": [
    "notation of outputs of layer funtions\n",
    "    \n",
    "    o: outputs will be send to the next layer\n",
    "    w: weights of the layer\n",
    "    b: biases of the layer"
   ]
  },
  {
   "cell_type": "code",
   "execution_count": 8,
   "metadata": {},
   "outputs": [],
   "source": [
    "def t_fltn(d):\n",
    "    f = g_f(d)\n",
    "    d = tf.reshape(d, [-1, f])\n",
    "    return d"
   ]
  },
  {
   "cell_type": "code",
   "execution_count": 9,
   "metadata": {},
   "outputs": [],
   "source": [
    "def n_fc(i, nr_n, relu = True):\n",
    "    \n",
    "    i_f = g_f(i)\n",
    "    w, b = n_fc_w_b(i_f, nr_n)\n",
    "    o = tf.matmul(i, w) + b\n",
    "    \n",
    "    if relu == True:\n",
    "        o = tf.nn.relu(o)\n",
    "    \n",
    "    return o, w, b"
   ]
  },
  {
   "cell_type": "code",
   "execution_count": 10,
   "metadata": {},
   "outputs": [],
   "source": [
    "def n_cnn_2d(i, ft_x, ft_y, o_ch, pool = 1, relu = True):\n",
    "    \n",
    "    i_ch = g_ch(i)\n",
    "    w, b = n_cnn_2d_w_b(ft_x, ft_y, i_ch, o_ch)\n",
    "    o = tf.nn.conv2d(i, w, strides = [1,1,1,1], padding = 'SAME') + b\n",
    "    \n",
    "    if pool > 1:\n",
    "        o = tf.nn.max_pool(value = o, ksize = [1, pool, pool, 1], strides = [1, pool, pool, 1], padding = 'SAME' )\n",
    "    \n",
    "    if relu == True:\n",
    "        o = tf.nn.relu(o) \n",
    "    \n",
    "    return o, w, b"
   ]
  },
  {
   "cell_type": "markdown",
   "metadata": {},
   "source": [
    "# 5 Models"
   ]
  },
  {
   "cell_type": "markdown",
   "metadata": {},
   "source": [
    "##  5.1 Neuron network layers"
   ]
  },
  {
   "cell_type": "markdown",
   "metadata": {},
   "source": [
    "process of following layers:\n",
    "    \n",
    "    x and y : not shown here, the placeholders defined above,\n",
    "    x_img: transformed x into images with format of (28, 28, 1)\n",
    "    cnn1_o: scan each image of x_img with filter of (5,5), and creates 16 new images of (14, 14)\n",
    "    cnn2_o: scan each set of 16 images of cnn1_o with filter of (5,5), and creates 36 images of (7, 7)\n",
    "    cnn2_o_fltn: flatten cnn2_o into 1,764 (7 * 7 * 36)\n",
    "    fc1_o: go through a fc with 128 neurons\n",
    "    p: go through another of with 10 reurons to get class predictions. note relu is not uesed here"
   ]
  },
  {
   "cell_type": "code",
   "execution_count": 11,
   "metadata": {},
   "outputs": [
    {
     "name": "stdout",
     "output_type": "stream",
     "text": [
      "x in image: (?, 28, 28, 1)\n",
      "cnn1: Tensor(\"Relu:0\", shape=(?, 14, 14, 16), dtype=float32) <tf.Variable 'Variable:0' shape=(5, 5, 1, 16) dtype=float32_ref> <tf.Variable 'Variable_1:0' shape=(16,) dtype=float32_ref>\n",
      "cnn2: Tensor(\"Relu_1:0\", shape=(?, 7, 7, 36), dtype=float32) <tf.Variable 'Variable_2:0' shape=(5, 5, 16, 36) dtype=float32_ref> <tf.Variable 'Variable_3:0' shape=(36,) dtype=float32_ref>\n",
      "cnn2 in flat: Tensor(\"Reshape_1:0\", shape=(?, 1764), dtype=float32)\n",
      "fc1: Tensor(\"Relu_2:0\", shape=(?, 128), dtype=float32) <tf.Variable 'Variable_4:0' shape=(1764, 128) dtype=float32_ref> <tf.Variable 'Variable_5:0' shape=(128,) dtype=float32_ref>\n",
      "p in probabilities: Tensor(\"add_3:0\", shape=(?, 10), dtype=float32) <tf.Variable 'Variable_6:0' shape=(128, 10) dtype=float32_ref> <tf.Variable 'Variable_7:0' shape=(10,) dtype=float32_ref>\n"
     ]
    }
   ],
   "source": [
    "x_img = tf.reshape(x, shape = [-1, data.img_shape[0], data.img_shape[1], data.num_channels])\n",
    "print('x in image:', x_img.shape)\n",
    "\n",
    "cnn1_o, cnn1_w, cnn1_b = n_cnn_2d(x_img, 5, 5, 16, pool = 2)\n",
    "print('cnn1:',cnn1_o, cnn1_w, cnn1_b)\n",
    "\n",
    "cnn2_o, cnn2_w, cnn2_b = n_cnn_2d(cnn1_o, 5, 5, 36, pool = 2)\n",
    "print('cnn2:',cnn2_o, cnn2_w, cnn2_b)\n",
    "\n",
    "cnn2_o_fltn = t_fltn(cnn2_o)\n",
    "print('cnn2 in flat:',cnn2_o_fltn)\n",
    "\n",
    "fc1_o, fc1_w, fc1_b = n_fc(cnn2_o_fltn, 128)\n",
    "print('fc1:', fc1_o, fc1_w, fc1_b)\n",
    "\n",
    "p, fc2_w, fc2_b = n_fc(fc1_o, 10, relu = False)\n",
    "print('p in probabilities:', p, fc2_w, fc2_b)"
   ]
  },
  {
   "cell_type": "markdown",
   "metadata": {},
   "source": [
    "## 5.2 Optimizing layers"
   ]
  },
  {
   "cell_type": "code",
   "execution_count": 12,
   "metadata": {},
   "outputs": [
    {
     "name": "stdout",
     "output_type": "stream",
     "text": [
      "c: Tensor(\"Mean:0\", shape=(), dtype=float32)\n"
     ]
    }
   ],
   "source": [
    "c = tf.nn.softmax_cross_entropy_with_logits_v2(logits = p, labels = y)\n",
    "c = tf.reduce_mean(c)\n",
    "print('c:', c)"
   ]
  },
  {
   "cell_type": "code",
   "execution_count": 13,
   "metadata": {},
   "outputs": [
    {
     "name": "stdout",
     "output_type": "stream",
     "text": [
      "op: name: \"Adam\"\n",
      "op: \"NoOp\"\n",
      "input: \"^Adam/update_Variable/ApplyAdam\"\n",
      "input: \"^Adam/update_Variable_1/ApplyAdam\"\n",
      "input: \"^Adam/update_Variable_2/ApplyAdam\"\n",
      "input: \"^Adam/update_Variable_3/ApplyAdam\"\n",
      "input: \"^Adam/update_Variable_4/ApplyAdam\"\n",
      "input: \"^Adam/update_Variable_5/ApplyAdam\"\n",
      "input: \"^Adam/update_Variable_6/ApplyAdam\"\n",
      "input: \"^Adam/update_Variable_7/ApplyAdam\"\n",
      "input: \"^Adam/Assign\"\n",
      "input: \"^Adam/Assign_1\"\n",
      "\n"
     ]
    }
   ],
   "source": [
    "op = tf.train.AdamOptimizer(learning_rate=1e-4).minimize(c)\n",
    "print('op:', op)"
   ]
  },
  {
   "cell_type": "markdown",
   "metadata": {},
   "source": [
    "## 5.3  Accuracy layers"
   ]
  },
  {
   "cell_type": "markdown",
   "metadata": {},
   "source": [
    "descrition of following functions:\n",
    "    \n",
    "    t_cls: transform probalilities of one-hot into class values\n"
   ]
  },
  {
   "cell_type": "markdown",
   "metadata": {},
   "source": [
    "why does this function exist?\n",
    "\n",
    "this is a programing style i am trying to develop. i am not programmer, and code is hard for me to understand. what does \"tf.argmax(d, axis = 1)\" mean? it might has innumerable meanings in innumerable context. but right down here, it have a very definite meaning to me: transform data into class values. \"t_cls\" tells me."
   ]
  },
  {
   "cell_type": "code",
   "execution_count": 14,
   "metadata": {},
   "outputs": [],
   "source": [
    "def t_cls(d):\n",
    "    d = tf.argmax(d, axis = 1)\n",
    "    return d"
   ]
  },
  {
   "cell_type": "markdown",
   "metadata": {},
   "source": [
    "description of following layers:\n",
    "    \n",
    "    y_cls: real class values of y\n",
    "    p_cls: prediction calss values\n",
    "    \n",
    "    ac_bl: true of false of the prediction\n",
    "    ac_f32: cast is needed to transform boolean into float\n",
    "    ac: finnal average cost"
   ]
  },
  {
   "cell_type": "code",
   "execution_count": 15,
   "metadata": {},
   "outputs": [
    {
     "name": "stdout",
     "output_type": "stream",
     "text": [
      "y in class: Tensor(\"ArgMax:0\", shape=(?,), dtype=int64)\n",
      "p in class: Tensor(\"ArgMax_1:0\", shape=(?,), dtype=int64)\n"
     ]
    }
   ],
   "source": [
    "y_cls = t_cls(y)\n",
    "print('y in class:', y_cls)\n",
    "p_cls = t_cls(p)\n",
    "print('p in class:', p_cls)"
   ]
  },
  {
   "cell_type": "code",
   "execution_count": 16,
   "metadata": {},
   "outputs": [
    {
     "name": "stdout",
     "output_type": "stream",
     "text": [
      "ac: Tensor(\"Mean_1:0\", shape=(), dtype=float32)\n"
     ]
    }
   ],
   "source": [
    "ac_bl = tf.equal(y_cls, p_cls)\n",
    "ac_f32 = tf.cast(ac_bl, dtype = tf.float32)\n",
    "ac = tf.reduce_mean(ac_f32, axis = 0)\n",
    "print('ac:', ac)"
   ]
  },
  {
   "cell_type": "markdown",
   "metadata": {},
   "source": [
    "# 7. Session"
   ]
  },
  {
   "cell_type": "code",
   "execution_count": 17,
   "metadata": {},
   "outputs": [],
   "source": [
    "se = tf.Session()\n",
    "se.run(tf.global_variables_initializer())"
   ]
  },
  {
   "cell_type": "markdown",
   "metadata": {},
   "source": [
    "# 8. Training and testing functions"
   ]
  },
  {
   "cell_type": "markdown",
   "metadata": {},
   "source": [
    "## 8.1 Plots functions "
   ]
  },
  {
   "cell_type": "markdown",
   "metadata": {},
   "source": [
    "descrition of following function:\n",
    "    \n",
    "    plt_img: plot images with real class values and prediction class values\n",
    "        cl = number of columns\n",
    "        rw = number of rows\n",
    "        ax_n: number of axes/imges in a fg\n",
    "        ax_sh: shape of ax/image"
   ]
  },
  {
   "cell_type": "code",
   "execution_count": 18,
   "metadata": {},
   "outputs": [],
   "source": [
    "def plt_img(img, y_cls, p_cls, cl = 5):\n",
    "\n",
    "    print('img.shape:', img.shape)\n",
    "    \n",
    "    img_n = img.shape[0]\n",
    "    img_x = img.shape[1]\n",
    "    img_y = img.shape[2]\n",
    "    img_ch = img.shape[3]\n",
    "    \n",
    "    ax_sh = [img_x, img_y] # strange, channel is not needed\n",
    "    ax_n = img_n\n",
    "    rw = math.ceil(ax_n/cl)\n",
    "    \n",
    "    fg, axes = plt.subplots(rw, cl)\n",
    "    fg.subplots_adjust(hspace = 0.2, wspace = 0.2)\n",
    "    \n",
    "    for i, ax in enumerate(axes.flat):\n",
    "        if i < img_n:\n",
    "            ax.imshow(img[i].reshape(ax_sh), cmap = 'binary')\n",
    "            x_lb = 'y:{0} p:{1}'.format(y_cls[i], p_cls[i])\n",
    "            ax.set_xlabel(x_lb)\n",
    "        ax.set_xticks([])\n",
    "        ax.set_yticks([])\n",
    "    \n",
    "    plt.show"
   ]
  },
  {
   "cell_type": "markdown",
   "metadata": {},
   "source": [
    "## 8.2 Train funtions "
   ]
  },
  {
   "cell_type": "markdown",
   "metadata": {},
   "source": [
    "descrition of following functions:\n",
    "    \n",
    "    def n_bt: create a batch from data\n",
    "        st: start index\n",
    "        nd: end index\n",
    "    \n",
    "    tr: training function that uses training data to feed optimizer(op)\n",
    "        i_x: x as inputs\n",
    "        i_y: y as inputs\n",
    "        bt_s: batch size\n",
    "        it: number of iterations\n",
    "        ep: number if epochs\n",
    "        it_shw: iterations to show accuracy\n",
    "        \n",
    "        i_x_n: number of x\n",
    "        it_nd: indicates if the current iteration is the last one. if the end index (nd) of current batch reaches number of x, that means later literations don't need to run and the loop should be stopped.\n",
    "        i_x_bt: x batch\n",
    "        i_y_bt: y batch\n",
    "        fd_bt: feed batch contains x batch and y batch"
   ]
  },
  {
   "cell_type": "code",
   "execution_count": 19,
   "metadata": {},
   "outputs": [],
   "source": [
    "def n_bt(d, st, nd):\n",
    "    bt = d[st:nd]\n",
    "    return bt"
   ]
  },
  {
   "cell_type": "code",
   "execution_count": 20,
   "metadata": {},
   "outputs": [],
   "source": [
    "def tr(i_x, i_y, bt_s = 100, it = 550, ep = 1, it_shw = 100):\n",
    "    \n",
    "    for i in range(ep):\n",
    "        i_x_n = i_x.shape[0]\n",
    "        it_nd = False\n",
    "        \n",
    "        for j in range(0, it):\n",
    "            st = j * bt_s\n",
    "            nd = (j + 1) * bt_s\n",
    "            if nd > i_x_n:\n",
    "                nd = i_x_n\n",
    "                it_nd = True\n",
    "            \n",
    "            i_x_bt = n_bt(i_x, st, nd)\n",
    "            i_y_bt = n_bt(i_y, st, nd)\n",
    "            i_bt = {x: i_x_bt, y: i_y_bt} \n",
    "            \n",
    "            se.run(op, feed_dict = i_bt)\n",
    "            \n",
    "            if (j + 1) % it_shw == 0 or it_nd == True:\n",
    "                cost, accuracy = se.run([c, ac], feed_dict = i_bt)\n",
    "                print('epochs:{0}\\titerations:{1}'.format(i + 1, j + 1))\n",
    "                print('cost:{0:2f}\\taccurcy:{1:0.1%}'.format(cost, accuracy))\n",
    "            \n",
    "                if it_nd == True:\n",
    "                    break\n",
    "                \n",
    "        print('epochs:{0} finished'.format(i + 1))    \n",
    "        \n",
    "    return 'train finished'"
   ]
  },
  {
   "cell_type": "markdown",
   "metadata": {},
   "source": [
    "## Test funtions"
   ]
  },
  {
   "cell_type": "markdown",
   "metadata": {},
   "source": [
    "descrition of following function:\n",
    "    \n",
    "    ts: testing funtion that uses testing data to feed accuracy(acc)\n",
    "        i_x: x as inputs\n",
    "        i_y: y as inputs\n",
    "        bt_s: batch size\n",
    "        show_wrong: if show wrong images\n",
    "        \n",
    "        wrong_image, wrong_y, wrong_p: images, real calss values, prediction class values of wrong preditions"
   ]
  },
  {
   "cell_type": "code",
   "execution_count": 21,
   "metadata": {},
   "outputs": [],
   "source": [
    "def ts(i_x, i_y, bt_s = 10000, show_wrong = False):\n",
    "    \n",
    "    if bt_s == 0:\n",
    "        bt_s = ts_x.shape[0]\n",
    "    i_x_bt = i_x[:bt_s]\n",
    "    i_y_bt = i_y[:bt_s]\n",
    "    \n",
    "    i_bt = {x: i_x_bt, y: i_y_bt} \n",
    "    \n",
    "    x_image, cost, accuracy, accuracy_bool, y_class, p_class = se.run([x_img, c, ac, ac_bl, y_cls, p_cls], feed_dict = i_bt)\n",
    "    \n",
    "    print('cost:{0:2f}\\taccurcy:{1:0.1%}'.format(cost, accuracy))\n",
    "    \n",
    "    if show_wrong == True: \n",
    "        \n",
    "        wrong = np.where(accuracy_bool == False)\n",
    "        \n",
    "        wrong_img = x_image[wrong]\n",
    "        wrong_y = y_class[wrong]\n",
    "        wrong_p = p_class[wrong]\n",
    "    \n",
    "        plt_img(wrong_img[0:10], wrong_y[0:10], wrong_p[0:10], cl = 5,)\n",
    "    \n",
    "    return 'test finished'"
   ]
  },
  {
   "cell_type": "markdown",
   "metadata": {},
   "source": [
    "# 9. Train and test"
   ]
  },
  {
   "cell_type": "code",
   "execution_count": 22,
   "metadata": {
    "scrolled": true
   },
   "outputs": [
    {
     "name": "stdout",
     "output_type": "stream",
     "text": [
      "epochs:1\titerations:100\n",
      "cost:1.818742\taccurcy:54.7%\n",
      "epochs:1\titerations:200\n",
      "cost:0.881090\taccurcy:68.8%\n",
      "epochs:1\titerations:300\n",
      "cost:0.578191\taccurcy:81.2%\n",
      "epochs:1\titerations:400\n",
      "cost:0.414766\taccurcy:89.1%\n",
      "epochs:1\titerations:500\n",
      "cost:0.322338\taccurcy:89.1%\n",
      "epochs:1\titerations:600\n",
      "cost:0.352916\taccurcy:89.1%\n",
      "epochs:1\titerations:700\n",
      "cost:0.317580\taccurcy:87.5%\n",
      "epochs:1\titerations:800\n",
      "cost:0.442733\taccurcy:85.9%\n",
      "epochs:1\titerations:860\n",
      "cost:0.577444\taccurcy:87.5%\n",
      "epochs:1 finished\n"
     ]
    },
    {
     "data": {
      "text/plain": [
       "'train finished'"
      ]
     },
     "execution_count": 22,
     "metadata": {},
     "output_type": "execute_result"
    }
   ],
   "source": [
    "tr(data.x_train, data.y_train, 64, 1000, 1, 100)"
   ]
  },
  {
   "cell_type": "code",
   "execution_count": 23,
   "metadata": {},
   "outputs": [
    {
     "name": "stdout",
     "output_type": "stream",
     "text": [
      "cost:0.294461\taccurcy:91.4%\n",
      "img.shape: (10, 28, 28, 1)\n"
     ]
    },
    {
     "data": {
      "text/plain": [
       "'test finished'"
      ]
     },
     "execution_count": 23,
     "metadata": {},
     "output_type": "execute_result"
    },
    {
     "data": {
      "image/png": "[encoded data removed]",
      "text/plain": [
       "<Figure size 432x288 with 10 Axes>"
      ]
     },
     "metadata": {},
     "output_type": "display_data"
    }
   ],
   "source": [
    "ts(data.x_test, data.y_test, 1000, show_wrong = True)"
   ]
  },
  {
   "cell_type": "markdown",
   "metadata": {},
   "source": [
    "# 10. Show weights"
   ]
  },
  {
   "cell_type": "code",
   "execution_count": 24,
   "metadata": {},
   "outputs": [],
   "source": [
    "def plt_cnn_2d_w(w, cl = 5):\n",
    "    \n",
    "    w = se.run(w)\n",
    "    print('w.shape', w.shape)\n",
    "    \n",
    "    w_min = np.min(w)\n",
    "    w_max = np.max(w)\n",
    "    \n",
    "    ft_x = w.shape[0]\n",
    "    ft_y = w.shape[1]\n",
    "    i_ch = w.shape[2]\n",
    "    o_ch = w.shape[3]\n",
    "    \n",
    "    print('i_ch:', i_ch)\n",
    "    print('o_ch:', o_ch)\n",
    "    \n",
    "    ax_n = i_ch * o_ch\n",
    "    rw = math.ceil(ax_n/cl)\n",
    "    \n",
    "    fg, axes = plt.subplots(rw, cl)\n",
    "    fg.subplots_adjust(hspace = 0.5, wspace = 0.5)\n",
    "    \n",
    "    j = 0\n",
    "    k = 0\n",
    "    \n",
    "    for i, ax in enumerate(axes.flat):\n",
    "        if i < ax_n:\n",
    "            while j in range(i_ch):\n",
    "                print('j=', j )\n",
    "                while k in range(o_ch):\n",
    "                    print('k=', k )\n",
    "                    img = w[:, :, j, k]\n",
    "                    x_lb = 'i:{0} o:{1}'.format(j + 1, k + 1)\n",
    "                    k = k + 1\n",
    "                j = j + 1\n",
    "                    \n",
    "            ax.imshow(img, vmin = w_min, vmax = w_max, interpolation='nearest' , cmap = 'seismic')\n",
    "            ax.set_xlabel(x_lb)\n",
    "            ax.set_xticks([])\n",
    "            ax.set_yticks([])\n",
    "    \n",
    "    # what's fucking wrong with loop?!\n",
    "    plt.show"
   ]
  },
  {
   "cell_type": "code",
   "execution_count": 25,
   "metadata": {},
   "outputs": [
    {
     "name": "stdout",
     "output_type": "stream",
     "text": [
      "w.shape (5, 5, 1, 16)\n",
      "i_ch: 1\n",
      "o_ch: 16\n",
      "j= 0\n",
      "k= 0\n",
      "k= 1\n",
      "k= 2\n",
      "k= 3\n",
      "k= 4\n",
      "k= 5\n",
      "k= 6\n",
      "k= 7\n",
      "k= 8\n",
      "k= 9\n",
      "k= 10\n",
      "k= 11\n",
      "k= 12\n",
      "k= 13\n",
      "k= 14\n",
      "k= 15\n"
     ]
    },
    {
     "data": {
      "image/png": "[encoded data removed]",
      "text/plain": [
       "<Figure size 432x288 with 20 Axes>"
      ]
     },
     "metadata": {
      "needs_background": "light"
     },
     "output_type": "display_data"
    }
   ],
   "source": [
    "plt_cnn_2d_w(cnn1_w, cl = 5)"
   ]
  },
  {
   "cell_type": "markdown",
   "metadata": {},
   "source": [
    "# 11. Show outputs"
   ]
  },
  {
   "cell_type": "code",
   "execution_count": 26,
   "metadata": {},
   "outputs": [],
   "source": [
    "def plt_cnn_2d_o(img, o, cl = 5):\n",
    "    \n",
    "    plt.imshow(img.reshape([28, 28]), cmap = 'binary')\n",
    "    \n",
    "    fd_img = {x: [img]}\n",
    "    o = se.run(o, feed_dict = fd_img)\n",
    "    \n",
    "    print('o.shape', o.shape)\n",
    "    \n",
    "    o_n = o.shape[0]\n",
    "    o_x = o.shape[1]\n",
    "    o_y = o.shape[2]\n",
    "    o_ch = o.shape[3]\n",
    "    \n",
    "    ax_sh = [o_x, o_y]\n",
    "    ax_n = o_ch\n",
    "    \n",
    "    rw = math.ceil(ax_n/cl)\n",
    "    \n",
    "    fg, axes = plt.subplots(rw, cl)\n",
    "    fg.subplots_adjust(hspace = 0.5, wspace = 0.5)\n",
    "    \n",
    "    for i, ax in enumerate(axes.flat):\n",
    "        if i < ax_n:\n",
    "            img = o[0, :, :, i]\n",
    "            ax.imshow(img, interpolation='nearest', cmap = 'binary')\n",
    "            x_lb = 'chn:{0}'.format(i+1)\n",
    "            ax.set_xlabel(x_lb)\n",
    "        ax.set_xticks([])\n",
    "        ax.set_yticks([])\n",
    "    \n",
    "    plt.show"
   ]
  },
  {
   "cell_type": "code",
   "execution_count": 27,
   "metadata": {},
   "outputs": [
    {
     "name": "stdout",
     "output_type": "stream",
     "text": [
      "o.shape (1, 14, 14, 16)\n"
     ]
    },
    {
     "data": {
      "image/png": "[encoded data removed]",
      "text/plain": [
       "<Figure size 432x288 with 1 Axes>"
      ]
     },
     "metadata": {
      "needs_background": "light"
     },
     "output_type": "display_data"
    },
    {
     "data": {
      "image/png": "[encoded data removed]",
      "text/plain": [
       "<Figure size 432x288 with 20 Axes>"
      ]
     },
     "metadata": {},
     "output_type": "display_data"
    }
   ],
   "source": [
    "image = data.x_test[0]\n",
    "plt_cnn_2d_o(image, cnn1_o, cl = 5)"
   ]
  },
  {
   "cell_type": "code",
   "execution_count": null,
   "metadata": {},
   "outputs": [],
   "source": []
  }
 ],
 "metadata": {
  "kernelspec": {
   "display_name": "Python 3",
   "language": "python",
   "name": "python3"
  },
  "language_info": {
   "codemirror_mode": {
    "name": "ipython",
    "version": 3
   },
   "file_extension": ".py",
   "mimetype": "text/x-python",
   "name": "python",
   "nbconvert_exporter": "python",
   "pygments_lexer": "ipython3",
   "version": "3.7.4"
  }
 },
 "nbformat": 4,
 "nbformat_minor": 2
}
